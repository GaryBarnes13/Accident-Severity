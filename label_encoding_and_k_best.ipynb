{
 "cells": [
  {
   "cell_type": "code",
   "execution_count": 1,
   "metadata": {},
   "outputs": [],
   "source": [
    "from sklearn import tree\n",
    "import pandas as pd\n",
    "\n",
    "data = pd.read_csv(\"C:/Users/shard/OneDrive/Documents/MSAI/Data Mining/US_Accidents_Dec20_Updated.csv\")\n",
    "\n",
    "\n",
    "\n"
   ]
  },
  {
   "cell_type": "code",
   "execution_count": 2,
   "metadata": {},
   "outputs": [],
   "source": [
    "X = data.drop(['ID',\n",
    "               'Severity',\n",
    "               'Start_Lat',\n",
    "               'End_Lat',\n",
    "               'Start_Lng',\n",
    "               'End_Lng',\n",
    "               'Distance(mi)',\n",
    "               'Start_Time',\n",
    "               'End_Time',\n",
    "               ], axis=1)\n",
    "y = data[\"Severity\"]"
   ]
  },
  {
   "cell_type": "code",
   "execution_count": 29,
   "metadata": {},
   "outputs": [
    {
     "name": "stdout",
     "output_type": "stream",
     "text": [
      "Description                int32\n",
      "Number                   float64\n",
      "Street                     int32\n",
      "Side                       int32\n",
      "City                       int32\n",
      "County                     int32\n",
      "State                      int32\n",
      "Zipcode                    int32\n",
      "Country                    int32\n",
      "Timezone                   int32\n",
      "Airport_Code               int32\n",
      "Weather_Timestamp          int32\n",
      "Temperature(F)           float64\n",
      "Wind_Chill(F)            float64\n",
      "Humidity(%)              float64\n",
      "Pressure(in)             float64\n",
      "Visibility(mi)           float64\n",
      "Wind_Direction             int32\n",
      "Wind_Speed(mph)          float64\n",
      "Precipitation(in)        float64\n",
      "Weather_Condition          int32\n",
      "Amenity                    int64\n",
      "Bump                       int64\n",
      "Crossing                   int64\n",
      "Give_Way                   int64\n",
      "Junction                   int64\n",
      "No_Exit                    int64\n",
      "Railway                    int64\n",
      "Roundabout                 int64\n",
      "Station                    int64\n",
      "Stop                       int64\n",
      "Traffic_Calming            int64\n",
      "Traffic_Signal             int64\n",
      "Turning_Loop               int64\n",
      "Sunrise_Sunset             int32\n",
      "Civil_Twilight             int32\n",
      "Nautical_Twilight          int32\n",
      "Astronomical_Twilight      int32\n",
      "dtype: object\n",
      "   Description  Number  Street  Side   City  County  State  Zipcode  Country  \\\n",
      "0       191423     0.0   81270     1   2554     538     33    84660        0   \n",
      "1        94828     0.0   73303     1   2296    1014     33    88598        0   \n",
      "2        66801     0.0   73320     1   1723     642     33    87267        0   \n",
      "3        66801     0.0   89331     1   1723     642     33    87217        0   \n",
      "4        41108     0.0   73324     1     66    1451     33    86589        0   \n",
      "5        87861     0.0   73320     1   1723     642     33    87463        0   \n",
      "6        41722     0.0   87537     1  10396     321     33    87210        0   \n",
      "7        41722  1887.0   51068     1    509     321     33    87111        0   \n",
      "8        94819     0.0   73320     1   2296    1014     33    88154        0   \n",
      "9        17539     0.0   73308     1   1799     391     33    86334        0   \n",
      "\n",
      "   Timezone  ...  Roundabout  Station  Stop  Traffic_Calming  Traffic_Signal  \\\n",
      "0         1  ...           0        0     0                0               0   \n",
      "1         1  ...           0        0     0                0               0   \n",
      "2         1  ...           0        0     0                0               0   \n",
      "3         1  ...           0        0     0                0               0   \n",
      "4         1  ...           0        0     0                0               0   \n",
      "5         1  ...           0        0     0                0               0   \n",
      "6         1  ...           0        0     0                0               1   \n",
      "7         1  ...           0        0     0                0               0   \n",
      "8         1  ...           0        0     0                0               0   \n",
      "9         1  ...           0        0     0                0               0   \n",
      "\n",
      "   Turning_Loop  Sunrise_Sunset  Civil_Twilight  Nautical_Twilight  \\\n",
      "0             0               1               1                  1   \n",
      "1             0               1               1                  1   \n",
      "2             0               1               1                  1   \n",
      "3             0               1               1                  1   \n",
      "4             0               1               1                  0   \n",
      "5             0               0               0                  0   \n",
      "6             0               0               0                  0   \n",
      "7             0               0               0                  0   \n",
      "8             0               0               0                  0   \n",
      "9             0               0               0                  0   \n",
      "\n",
      "   Astronomical_Twilight  \n",
      "0                      1  \n",
      "1                      1  \n",
      "2                      0  \n",
      "3                      0  \n",
      "4                      0  \n",
      "5                      0  \n",
      "6                      0  \n",
      "7                      0  \n",
      "8                      0  \n",
      "9                      0  \n",
      "\n",
      "[10 rows x 38 columns]\n"
     ]
    }
   ],
   "source": [
    "import pandas as pd\n",
    "from sklearn.preprocessing import LabelEncoder\n",
    "from sklearn.preprocessing import OneHotEncoder\n",
    "from sklearn.pipeline import Pipeline\n",
    "\n",
    "\n",
    "\n",
    "# from https://stackoverflow.com/questions/24458645/label-encoding-across-multiple-columns-in-scikit-learn\n",
    "class MultiColumnLabelEncoder:\n",
    "    def __init__(self,columns = None):\n",
    "        self.columns = columns # array of column names to encode\n",
    "\n",
    "    def fit(self,X,y=None):\n",
    "        return self # not relevant here\n",
    "\n",
    "    def transform(self,X):\n",
    "        '''\n",
    "        Transforms columns of X specified in self.columns using\n",
    "        LabelEncoder(). If no columns specified, transforms all\n",
    "        columns in X.\n",
    "        '''\n",
    "        output = X.copy()\n",
    "        if self.columns is not None:\n",
    "            for col in self.columns:\n",
    "                output[col] = LabelEncoder().fit_transform(output[col])\n",
    "        else:\n",
    "            for colname,col in output.iteritems():\n",
    "                output[colname] = LabelEncoder().fit_transform(col)\n",
    "        return output\n",
    "\n",
    "    def fit_transform(self,X,y=None):\n",
    "        return self.fit(X,y).transform(X)\n",
    "\n",
    "X_labeled = MultiColumnLabelEncoder(columns = ['Description','Street','Side','City','County','State','Zipcode','Country','Timezone','Airport_Code','Weather_Timestamp','Wind_Direction','Weather_Condition','Amenity','Bump','Crossing','Give_Way','Junction','No_Exit','Railway','Roundabout','Station','Stop','Traffic_Calming','Traffic_Signal','Turning_Loop','Turning_Loop','Sunrise_Sunset','Civil_Twilight','Nautical_Twilight','Astronomical_Twilight']).fit_transform(X)\n",
    "\n",
    "X_labeled = X_labeled.fillna(0)\n",
    "\n",
    "print(X_labeled.dtypes)\n",
    "print(X_labeled.head(10))"
   ]
  },
  {
   "cell_type": "code",
   "execution_count": 30,
   "metadata": {},
   "outputs": [
    {
     "data": {
      "text/plain": [
       "(1516064, 5)"
      ]
     },
     "execution_count": 30,
     "metadata": {},
     "output_type": "execute_result"
    }
   ],
   "source": [
    "from sklearn.feature_selection import SelectKBest, chi2\n",
    "\n",
    "#print (X_labeled.head(20))\n",
    "\n",
    "\n",
    "\n",
    "#Converting F to Kelvin because K Best doesn't accept negative numbers\n",
    "X_labeled[\"Temperature(Kel)\"] =  273.5 + ((X_labeled[\"Temperature(F)\"] - 32.0) * (5.0/9.0))\n",
    "X_labeled[\"Wind_Chill(Kel)\"] =  273.5 + ((X_labeled[\"Wind_Chill(F)\"] - 32.0) * (5.0/9.0))\n",
    "\n",
    "#Dropping F values to get rid of negatives\n",
    "X_labeled = X_labeled.drop(['Temperature(F)', 'Wind_Chill(F)'], axis=1)\n",
    "\n",
    "\n"
   ]
  },
  {
   "cell_type": "code",
   "execution_count": 49,
   "metadata": {},
   "outputs": [
    {
     "name": "stdout",
     "output_type": "stream",
     "text": [
      "         Description  Number  Street  City  County  State  Zipcode  \\\n",
      "0             191423     0.0   81270  2554     538     33    84660   \n",
      "1              94828     0.0   73303  2296    1014     33    88598   \n",
      "2              66801     0.0   73320  1723     642     33    87267   \n",
      "3              66801     0.0   89331  1723     642     33    87217   \n",
      "4              41108     0.0   73324    66    1451     33    86589   \n",
      "...              ...     ...     ...   ...     ...    ...      ...   \n",
      "1516059        85031     0.0   82160  8064    1269      3   145370   \n",
      "1516060        34077     0.0   73343  8406    1321      3   144063   \n",
      "1516061        53020     0.0   70735  7057    1109      3   146895   \n",
      "1516062        26466     0.0   85962  2189     879      3   138267   \n",
      "1516063        57223     0.0   64611  4228    1320      3   144813   \n",
      "\n",
      "         Airport_Code  Weather_Timestamp  Weather_Condition  \n",
      "0                1443                  0                 50  \n",
      "1                 693                  2                 50  \n",
      "2                1140                  1                 73  \n",
      "3                1140                  1                 73  \n",
      "4                 143                  3                 73  \n",
      "...               ...                ...                ...  \n",
      "1516059          1574             201748                 12  \n",
      "1516060          1321             201756                 12  \n",
      "1516061          1740             201756                 75  \n",
      "1516062          1735             201754                 12  \n",
      "1516063          1673             201767                 12  \n",
      "\n",
      "[1516064 rows x 10 columns]\n"
     ]
    }
   ],
   "source": [
    "X_new = SelectKBest(chi2, k=10).fit(X_labeled, y)\n",
    "\n",
    "#X_new.shape\n",
    "\n",
    "cols = X_new.get_support(indices=True)\n",
    "features_df_new = X_labeled.iloc[:,cols]\n",
    "\n",
    "print(features_df_new)"
   ]
  },
  {
   "cell_type": "code",
   "execution_count": 4,
   "metadata": {},
   "outputs": [
    {
     "data": {
      "text/plain": [
       "0.8689331643687213"
      ]
     },
     "execution_count": 4,
     "metadata": {},
     "output_type": "execute_result"
    }
   ],
   "source": [
    "from sklearn import tree\n",
    "from sklearn.model_selection import train_test_split\n",
    "\n",
    "X_labeled = X_labeled.fillna(0)\n",
    "\n",
    "X_train, X_test, y_train, y_test = train_test_split(X_labeled, y, test_size=0.33, random_state=42)\n",
    "\n",
    "clf = tree.DecisionTreeClassifier()\n",
    "clf = clf.fit(X_train, y_train)\n",
    "clf.score(X_test, y_test)"
   ]
  }
 ],
 "metadata": {
  "interpreter": {
   "hash": "b0fa6594d8f4cbf19f97940f81e996739fb7646882a419484c72d19e05852a7e"
  },
  "kernelspec": {
   "display_name": "Python 3.9.7 64-bit",
   "language": "python",
   "name": "python3"
  },
  "language_info": {
   "codemirror_mode": {
    "name": "ipython",
    "version": 3
   },
   "file_extension": ".py",
   "mimetype": "text/x-python",
   "name": "python",
   "nbconvert_exporter": "python",
   "pygments_lexer": "ipython3",
   "version": "3.8.12"
  },
  "orig_nbformat": 4
 },
 "nbformat": 4,
 "nbformat_minor": 2
}
