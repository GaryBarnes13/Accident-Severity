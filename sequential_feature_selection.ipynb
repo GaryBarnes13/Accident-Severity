{
 "cells": [
  {
   "cell_type": "code",
   "execution_count": 1,
   "metadata": {},
   "outputs": [],
   "source": [
    "import pandas as pd\n",
    "from sklearn import tree\n",
    "from sklearn.model_selection import train_test_split\n",
    "from sklearn.feature_selection import SequentialFeatureSelector\n",
    "\n",
    "from MultiColumnLabelEncoder import MultiColumnLabelEncoder\n",
    "\n",
    "data = pd.read_csv(\"./accidents.zip\")"
   ]
  },
  {
   "cell_type": "code",
   "execution_count": 2,
   "metadata": {},
   "outputs": [],
   "source": [
    "X = data.drop(['ID',\n",
    "               'Severity',\n",
    "               'Start_Lat',\n",
    "               'End_Lat',\n",
    "               'Start_Lng',\n",
    "               'End_Lng',\n",
    "               'Distance(mi)',\n",
    "               'Start_Time',\n",
    "               'End_Time',\n",
    "               'Description',\n",
    "               'Number',\n",
    "               'Side'\n",
    "               ], axis=1)\n",
    "y = data[\"Severity\"]"
   ]
  },
  {
   "cell_type": "code",
   "execution_count": 3,
   "metadata": {},
   "outputs": [],
   "source": [
    "X_labeled = MultiColumnLabelEncoder(columns = ['Street','City','County','State','Zipcode','Country','Timezone','Airport_Code','Weather_Timestamp','Wind_Direction','Weather_Condition','Amenity','Bump','Crossing','Give_Way','Junction','No_Exit','Railway','Roundabout','Station','Stop','Traffic_Calming','Traffic_Signal','Turning_Loop','Turning_Loop','Sunrise_Sunset','Civil_Twilight','Nautical_Twilight','Astronomical_Twilight']).fit_transform(X)\n",
    "X_labeled = X_labeled.fillna(0)"
   ]
  },
  {
   "cell_type": "code",
   "execution_count": 4,
   "metadata": {},
   "outputs": [
    {
     "name": "stdout",
     "output_type": "stream",
     "text": [
      "County\n",
      "State\n",
      "Timezone\n",
      "Airport_Code\n",
      "Bump\n",
      "Give_Way\n",
      "Roundabout\n",
      "Stop\n",
      "Traffic_Signal\n",
      "Turning_Loop\n"
     ]
    }
   ],
   "source": [
    "X_train, X_test, y_train, y_test = train_test_split(X_labeled, y, test_size=0.33, random_state=42)\n",
    "\n",
    "clf = tree.DecisionTreeClassifier()\n",
    "sfs = SequentialFeatureSelector(clf, n_features_to_select=10)\n",
    "sfs.fit(X_labeled, y)\n",
    "\n",
    "indices = sfs.get_support(indices=True)\n",
    "\n",
    "for index in indices:\n",
    "    print(X_labeled.columns[index])"
   ]
  }
 ],
 "metadata": {
  "interpreter": {
   "hash": "8e7d8eedc0b4a8a6e645c06f7b972249bcc4214ace2f00fc9f054b34cacac10c"
  },
  "kernelspec": {
   "display_name": "Python 3.8.8 64-bit ('base': conda)",
   "language": "python",
   "name": "python3"
  },
  "language_info": {
   "codemirror_mode": {
    "name": "ipython",
    "version": 3
   },
   "file_extension": ".py",
   "mimetype": "text/x-python",
   "name": "python",
   "nbconvert_exporter": "python",
   "pygments_lexer": "ipython3",
   "version": "3.8.8"
  },
  "orig_nbformat": 4
 },
 "nbformat": 4,
 "nbformat_minor": 2
}
