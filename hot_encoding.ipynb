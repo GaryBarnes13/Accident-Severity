{
 "cells": [
  {
   "cell_type": "code",
   "execution_count": 1,
   "metadata": {},
   "outputs": [],
   "source": [
    "from sklearn import tree\n",
    "import pandas as pd\n",
    "\n",
    "data = pd.read_csv(\"./accidents.zip\")\n",
    "\n",
    "\n"
   ]
  },
  {
   "cell_type": "code",
   "execution_count": 6,
   "metadata": {},
   "outputs": [
    {
     "name": "stdout",
     "output_type": "stream",
     "text": [
      "       City_Abbeville  City_Abbotsford  City_Aberdeen  City_Abilene  \\\n",
      "0                   0                0              0             0   \n",
      "1                   0                0              0             0   \n",
      "2                   0                0              0             0   \n",
      "3                   0                0              0             0   \n",
      "4                   0                0              0             0   \n",
      "...               ...              ...            ...           ...   \n",
      "49995               0                0              0             0   \n",
      "49996               0                0              0             0   \n",
      "49997               0                0              0             0   \n",
      "49998               0                0              0             0   \n",
      "49999               0                0              0             0   \n",
      "\n",
      "       City_Abingdon  City_Absecon  City_Acampo  City_Accokeek  City_Acme  \\\n",
      "0                  0             0            0              0          0   \n",
      "1                  0             0            0              0          0   \n",
      "2                  0             0            0              0          0   \n",
      "3                  0             0            0              0          0   \n",
      "4                  0             0            0              0          0   \n",
      "...              ...           ...          ...            ...        ...   \n",
      "49995              0             0            0              0          0   \n",
      "49996              0             0            0              0          0   \n",
      "49997              0             0            0              0          0   \n",
      "49998              0             0            0              0          0   \n",
      "49999              0             0            0              0          0   \n",
      "\n",
      "       City_Acra  ...  State_RI  State_SC  State_SD  State_TN  State_TX  \\\n",
      "0              0  ...         0         0         0         0         0   \n",
      "1              0  ...         0         0         0         0         0   \n",
      "2              0  ...         0         0         0         0         0   \n",
      "3              0  ...         0         0         0         0         0   \n",
      "4              0  ...         0         0         0         0         0   \n",
      "...          ...  ...       ...       ...       ...       ...       ...   \n",
      "49995          0  ...         0         0         0         0         0   \n",
      "49996          0  ...         0         0         0         0         0   \n",
      "49997          0  ...         0         0         0         0         0   \n",
      "49998          0  ...         0         0         0         0         0   \n",
      "49999          0  ...         0         0         0         0         0   \n",
      "\n",
      "       State_VA  State_VT  State_WI  State_WV  State_WY  \n",
      "0             0         0         0         0         0  \n",
      "1             0         0         0         0         0  \n",
      "2             0         0         0         0         0  \n",
      "3             0         0         0         0         0  \n",
      "4             0         0         0         0         0  \n",
      "...         ...       ...       ...       ...       ...  \n",
      "49995         0         0         0         0         0  \n",
      "49996         0         0         0         0         0  \n",
      "49997         0         0         0         0         0  \n",
      "49998         0         0         0         0         0  \n",
      "49999         0         0         0         0         0  \n",
      "\n",
      "[50000 rows x 3758 columns]\n"
     ]
    }
   ],
   "source": [
    "X = data[['City', 'State']]\n",
    "y = data[\"Severity\"]\n",
    "\n",
    "X = X.head(50000)\n",
    "y = y.head(50000)\n",
    "\n",
    "def encode_and_bind(original_dataframe, feature_to_encode):\n",
    "    dummies = pd.get_dummies(original_dataframe[[feature_to_encode]])\n",
    "    res = pd.concat([original_dataframe, dummies], axis=1)\n",
    "    res = res.drop([feature_to_encode], axis=1)\n",
    "    return(res) \n",
    "\n",
    "\n",
    "features_to_encode = [\"City\", \"State\"]\n",
    "\n",
    "for feature in features_to_encode:\n",
    "    X = encode_and_bind(X, feature)\n",
    "\n",
    "print(X)\n",
    "\n"
   ]
  },
  {
   "cell_type": "code",
   "execution_count": 7,
   "metadata": {},
   "outputs": [
    {
     "data": {
      "text/plain": [
       "0.7167272727272728"
      ]
     },
     "execution_count": 7,
     "metadata": {},
     "output_type": "execute_result"
    }
   ],
   "source": [
    "from sklearn import tree\n",
    "from sklearn.model_selection import train_test_split\n",
    "\n",
    "X = X.fillna(0)\n",
    "\n",
    "X_train, X_test, y_train, y_test = train_test_split(X, y, test_size=0.33, random_state=42)\n",
    "\n",
    "clf = tree.DecisionTreeClassifier()\n",
    "clf = clf.fit(X_train, y_train)\n",
    "clf.score(X_test, y_test)"
   ]
  }
 ],
 "metadata": {
  "interpreter": {
   "hash": "8e7d8eedc0b4a8a6e645c06f7b972249bcc4214ace2f00fc9f054b34cacac10c"
  },
  "kernelspec": {
   "display_name": "Python 3.8.8 64-bit ('base': conda)",
   "language": "python",
   "name": "python3"
  },
  "language_info": {
   "codemirror_mode": {
    "name": "ipython",
    "version": 3
   },
   "file_extension": ".py",
   "mimetype": "text/x-python",
   "name": "python",
   "nbconvert_exporter": "python",
   "pygments_lexer": "ipython3",
   "version": "3.8.8"
  },
  "orig_nbformat": 4
 },
 "nbformat": 4,
 "nbformat_minor": 2
}
