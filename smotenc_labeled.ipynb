{
 "cells": [
  {
   "cell_type": "code",
   "execution_count": 1,
   "metadata": {},
   "outputs": [
    {
     "name": "stdout",
     "output_type": "stream",
     "text": [
      "Severity\n",
      "1      28178\n",
      "2    1212382\n",
      "3     161052\n",
      "4     114452\n",
      "dtype: int64\n",
      "1516064\n"
     ]
    }
   ],
   "source": [
    "import pandas as pd\n",
    "\n",
    "data = pd.read_csv(\"./accidents.zip\")\n",
    "print(data.groupby(\"Severity\").size())\n",
    "print(data.shape[0])\n"
   ]
  },
  {
   "cell_type": "code",
   "execution_count": 2,
   "metadata": {},
   "outputs": [
    {
     "name": "stdout",
     "output_type": "stream",
     "text": [
      "County            object\n",
      "State             object\n",
      "Timezone          object\n",
      "Airport_Code      object\n",
      "Bump                bool\n",
      "Give_Way            bool\n",
      "Roundabout          bool\n",
      "Stop                bool\n",
      "Traffic_Signal      bool\n",
      "Turning_Loop        bool\n",
      "dtype: object\n"
     ]
    }
   ],
   "source": [
    "X = data[['County','State','Timezone','Airport_Code','Bump','Give_Way','Roundabout','Stop','Traffic_Signal','Turning_Loop']]\n",
    "y = data['Severity']\n",
    "\n",
    "print(X.dtypes)"
   ]
  },
  {
   "cell_type": "code",
   "execution_count": 3,
   "metadata": {},
   "outputs": [
    {
     "name": "stdout",
     "output_type": "stream",
     "text": [
      "County            int64\n",
      "State             int64\n",
      "Timezone          int64\n",
      "Airport_Code      int64\n",
      "Bump               bool\n",
      "Give_Way           bool\n",
      "Roundabout         bool\n",
      "Stop               bool\n",
      "Traffic_Signal     bool\n",
      "Turning_Loop       bool\n",
      "dtype: object\n"
     ]
    }
   ],
   "source": [
    "from MultiColumnLabelEncoder import MultiColumnLabelEncoder\n",
    "\n",
    "X_labeled = MultiColumnLabelEncoder(columns = ['County','State','Timezone','Airport_Code']).fit_transform(X)\n",
    "print(X_labeled.dtypes)"
   ]
  },
  {
   "cell_type": "code",
   "execution_count": 4,
   "metadata": {},
   "outputs": [
    {
     "name": "stdout",
     "output_type": "stream",
     "text": [
      "2    8205\n",
      "3    8205\n",
      "4    8205\n",
      "Name: Severity, dtype: int64\n"
     ]
    }
   ],
   "source": [
    "from imblearn.over_sampling import SMOTENC\n",
    "\n",
    "sm = SMOTENC(random_state=42, categorical_features=[4,5,6,7,8,9])\n",
    "\n",
    "X_labeled = X_labeled.head(10000)\n",
    "y = y.head(10000)\n",
    "\n",
    "X_res, y_res = sm.fit_resample(X_labeled, y)\n",
    "\n",
    "print(y_res.value_counts())"
   ]
  }
 ],
 "metadata": {
  "interpreter": {
   "hash": "8e7d8eedc0b4a8a6e645c06f7b972249bcc4214ace2f00fc9f054b34cacac10c"
  },
  "kernelspec": {
   "display_name": "Python 3.8.8 64-bit ('base': conda)",
   "language": "python",
   "name": "python3"
  },
  "language_info": {
   "codemirror_mode": {
    "name": "ipython",
    "version": 3
   },
   "file_extension": ".py",
   "mimetype": "text/x-python",
   "name": "python",
   "nbconvert_exporter": "python",
   "pygments_lexer": "ipython3",
   "version": "3.8.8"
  },
  "orig_nbformat": 4
 },
 "nbformat": 4,
 "nbformat_minor": 2
}
