{
 "cells": [
  {
   "cell_type": "code",
   "execution_count": 2,
   "metadata": {},
   "outputs": [
    {
     "name": "stdout",
     "output_type": "stream",
     "text": [
      "Severity\n",
      "1      28178\n",
      "2    1212382\n",
      "3     161052\n",
      "4     114452\n",
      "dtype: int64\n",
      "1516064\n"
     ]
    }
   ],
   "source": [
    "import pandas as pd\n",
    "\n",
    "data = pd.read_csv(\"./accidents.zip\")\n",
    "print(data.groupby(\"Severity\").size())\n",
    "print(data.shape[0])\n"
   ]
  },
  {
   "cell_type": "code",
   "execution_count": 3,
   "metadata": {},
   "outputs": [
    {
     "name": "stdout",
     "output_type": "stream",
     "text": [
      "1516064\n"
     ]
    }
   ],
   "source": [
    "X = data.drop(['ID', 'Severity'], axis=1)\n",
    "y = data[\"Severity\"]\n",
    "print(X.shape[0])\n"
   ]
  },
  {
   "cell_type": "code",
   "execution_count": 4,
   "metadata": {},
   "outputs": [
    {
     "name": "stdout",
     "output_type": "stream",
     "text": [
      "Start_Time                object\n",
      "End_Time                  object\n",
      "Start_Lat                float64\n",
      "Start_Lng                float64\n",
      "End_Lat                  float64\n",
      "End_Lng                  float64\n",
      "Distance(mi)             float64\n",
      "Description               object\n",
      "Number                   float64\n",
      "Street                    object\n",
      "Side                      object\n",
      "City                      object\n",
      "County                    object\n",
      "State                     object\n",
      "Zipcode                   object\n",
      "Country                   object\n",
      "Timezone                  object\n",
      "Airport_Code              object\n",
      "Weather_Timestamp         object\n",
      "Temperature(F)           float64\n",
      "Wind_Chill(F)            float64\n",
      "Humidity(%)              float64\n",
      "Pressure(in)             float64\n",
      "Visibility(mi)           float64\n",
      "Wind_Direction            object\n",
      "Wind_Speed(mph)          float64\n",
      "Precipitation(in)        float64\n",
      "Weather_Condition         object\n",
      "Amenity                     bool\n",
      "Bump                        bool\n",
      "Crossing                    bool\n",
      "Give_Way                    bool\n",
      "Junction                    bool\n",
      "No_Exit                     bool\n",
      "Railway                     bool\n",
      "Roundabout                  bool\n",
      "Station                     bool\n",
      "Stop                        bool\n",
      "Traffic_Calming             bool\n",
      "Traffic_Signal              bool\n",
      "Turning_Loop                bool\n",
      "Sunrise_Sunset            object\n",
      "Civil_Twilight            object\n",
      "Nautical_Twilight         object\n",
      "Astronomical_Twilight     object\n",
      "dtype: object\n"
     ]
    }
   ],
   "source": [
    "print(X.dtypes)"
   ]
  },
  {
   "cell_type": "code",
   "execution_count": 5,
   "metadata": {},
   "outputs": [
    {
     "name": "stdout",
     "output_type": "stream",
     "text": [
      "1    28178\n",
      "2    28178\n",
      "3    28178\n",
      "4    28178\n",
      "Name: Severity, dtype: int64\n"
     ]
    }
   ],
   "source": [
    "from imblearn.under_sampling import RandomUnderSampler \n",
    "\n",
    "rus = RandomUnderSampler(random_state=42)\n",
    "X_res, y_res = rus.fit_resample(X, y)\n",
    "\n",
    "print(y_res.value_counts())"
   ]
  },
  {
   "cell_type": "code",
   "execution_count": 6,
   "metadata": {},
   "outputs": [
    {
     "name": "stdout",
     "output_type": "stream",
     "text": [
      "1    1212382\n",
      "2    1212382\n",
      "3    1212382\n",
      "4    1212382\n",
      "Name: Severity, dtype: int64\n"
     ]
    }
   ],
   "source": [
    "\n",
    "from imblearn.over_sampling import RandomOverSampler \n",
    "\n",
    "ros = RandomOverSampler(random_state=42)\n",
    "X_res, y_res = ros.fit_resample(X, y)\n",
    "\n",
    "print(y_res.value_counts())\n",
    "\n"
   ]
  }
 ],
 "metadata": {
  "interpreter": {
   "hash": "8e7d8eedc0b4a8a6e645c06f7b972249bcc4214ace2f00fc9f054b34cacac10c"
  },
  "kernelspec": {
   "display_name": "Python 3.8.8 64-bit ('base': conda)",
   "language": "python",
   "name": "python3"
  },
  "language_info": {
   "codemirror_mode": {
    "name": "ipython",
    "version": 3
   },
   "file_extension": ".py",
   "mimetype": "text/x-python",
   "name": "python",
   "nbconvert_exporter": "python",
   "pygments_lexer": "ipython3",
   "version": "3.8.8"
  },
  "orig_nbformat": 4
 },
 "nbformat": 4,
 "nbformat_minor": 2
}
