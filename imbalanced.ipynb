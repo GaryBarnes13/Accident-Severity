{
 "cells": [
  {
   "cell_type": "code",
   "execution_count": 8,
   "metadata": {},
   "outputs": [
    {
     "name": "stdout",
     "output_type": "stream",
     "text": [
      "Severity\n",
      "1      28178\n",
      "2    1212382\n",
      "3     161052\n",
      "4     114452\n",
      "dtype: int64\n",
      "1516064\n"
     ]
    }
   ],
   "source": [
    "import pandas as pd\n",
    "\n",
    "data = pd.read_csv(\"./accidents.zip\")\n",
    "print(data.groupby(\"Severity\").size())\n",
    "print(data.shape[0])\n"
   ]
  },
  {
   "cell_type": "code",
   "execution_count": 9,
   "metadata": {},
   "outputs": [
    {
     "name": "stdout",
     "output_type": "stream",
     "text": [
      "1516064\n"
     ]
    }
   ],
   "source": [
    "X = data.drop(['ID', 'Severity'], axis=1)\n",
    "y = data[\"Severity\"]\n",
    "print(X.shape[0])\n"
   ]
  },
  {
   "cell_type": "code",
   "execution_count": 10,
   "metadata": {},
   "outputs": [
    {
     "name": "stdout",
     "output_type": "stream",
     "text": [
      "Start_Time                object\n",
      "End_Time                  object\n",
      "Start_Lat                float64\n",
      "Start_Lng                float64\n",
      "End_Lat                  float64\n",
      "End_Lng                  float64\n",
      "Distance(mi)             float64\n",
      "Description               object\n",
      "Number                   float64\n",
      "Street                    object\n",
      "Side                      object\n",
      "City                      object\n",
      "County                    object\n",
      "State                     object\n",
      "Zipcode                   object\n",
      "Country                   object\n",
      "Timezone                  object\n",
      "Airport_Code              object\n",
      "Weather_Timestamp         object\n",
      "Temperature(F)           float64\n",
      "Wind_Chill(F)            float64\n",
      "Humidity(%)              float64\n",
      "Pressure(in)             float64\n",
      "Visibility(mi)           float64\n",
      "Wind_Direction            object\n",
      "Wind_Speed(mph)          float64\n",
      "Precipitation(in)        float64\n",
      "Weather_Condition         object\n",
      "Amenity                     bool\n",
      "Bump                        bool\n",
      "Crossing                    bool\n",
      "Give_Way                    bool\n",
      "Junction                    bool\n",
      "No_Exit                     bool\n",
      "Railway                     bool\n",
      "Roundabout                  bool\n",
      "Station                     bool\n",
      "Stop                        bool\n",
      "Traffic_Calming             bool\n",
      "Traffic_Signal              bool\n",
      "Turning_Loop                bool\n",
      "Sunrise_Sunset            object\n",
      "Civil_Twilight            object\n",
      "Nautical_Twilight         object\n",
      "Astronomical_Twilight     object\n",
      "dtype: object\n"
     ]
    }
   ],
   "source": [
    "print(X.dtypes)"
   ]
  },
  {
   "cell_type": "code",
   "execution_count": 11,
   "metadata": {},
   "outputs": [
    {
     "name": "stdout",
     "output_type": "stream",
     "text": [
      "1    28178\n",
      "2    28178\n",
      "3    28178\n",
      "4    28178\n",
      "Name: Severity, dtype: int64\n"
     ]
    }
   ],
   "source": [
    "from imblearn.under_sampling import RandomUnderSampler \n",
    "\n",
    "rus = RandomUnderSampler(random_state=42)\n",
    "X_res, y_res = rus.fit_resample(X, y)\n",
    "\n",
    "print(y_res.value_counts())"
   ]
  },
  {
   "cell_type": "code",
   "execution_count": 12,
   "metadata": {},
   "outputs": [
    {
     "name": "stdout",
     "output_type": "stream",
     "text": [
      "1    1212382\n",
      "2    1212382\n",
      "3    1212382\n",
      "4    1212382\n",
      "Name: Severity, dtype: int64\n"
     ]
    }
   ],
   "source": [
    "\n",
    "from imblearn.over_sampling import RandomOverSampler \n",
    "\n",
    "ros = RandomOverSampler(random_state=42)\n",
    "X_res, y_res = ros.fit_resample(X, y)\n",
    "\n",
    "print(y_res.value_counts())\n",
    "\n"
   ]
  },
  {
   "cell_type": "code",
   "execution_count": 13,
   "metadata": {},
   "outputs": [
    {
     "name": "stdout",
     "output_type": "stream",
     "text": [
      "Start_Lat            float64\n",
      "Start_Lng            float64\n",
      "End_Lat              float64\n",
      "End_Lng              float64\n",
      "Distance(mi)         float64\n",
      "Number               float64\n",
      "Temperature(F)       float64\n",
      "Wind_Chill(F)        float64\n",
      "Humidity(%)          float64\n",
      "Pressure(in)         float64\n",
      "Visibility(mi)       float64\n",
      "Wind_Speed(mph)      float64\n",
      "Precipitation(in)    float64\n",
      "dtype: object\n",
      "1    1212382\n",
      "2    1212382\n",
      "3    1212382\n",
      "4    1212382\n",
      "Name: Severity, dtype: int64\n"
     ]
    }
   ],
   "source": [
    "from imblearn.over_sampling import SMOTE \n",
    "\n",
    "X_float = X[[\"Start_Lat\", \n",
    "             \"Start_Lng\", \n",
    "             \"End_Lat\", \n",
    "             \"End_Lng\", \n",
    "             \"Distance(mi)\",\n",
    "             \"Number\",\n",
    "             \"Temperature(F)\",\n",
    "             \"Wind_Chill(F)\",\n",
    "             \"Humidity(%)\",\n",
    "             \"Pressure(in)\",\n",
    "             \"Visibility(mi)\",\n",
    "             \"Wind_Speed(mph)\",\n",
    "             \"Precipitation(in)\"\n",
    "             ]]\n",
    "print(X_float.dtypes)\n",
    "\n",
    "X_float = X_float.fillna(0)\n",
    "\n",
    "\n",
    "sm = SMOTE(random_state=42)\n",
    "X_res, y_res = sm.fit_resample(X_float, y)\n",
    "\n",
    "print(y_res.value_counts())"
   ]
  },
  {
   "cell_type": "code",
   "execution_count": 14,
   "metadata": {},
   "outputs": [
    {
     "name": "stdout",
     "output_type": "stream",
     "text": [
      "             Start_Time             End_Time  \\\n",
      "0   2016-02-08 00:37:08  2016-02-08 06:37:08   \n",
      "1   2016-02-08 05:56:20  2016-02-08 11:56:20   \n",
      "2   2016-02-08 06:15:39  2016-02-08 12:15:39   \n",
      "3   2016-02-08 06:15:39  2016-02-08 12:15:39   \n",
      "4   2016-02-08 06:51:45  2016-02-08 12:51:45   \n",
      "..                  ...                  ...   \n",
      "95  2016-02-11 07:45:24  2016-02-11 13:45:24   \n",
      "96  2016-02-11 07:45:23  2016-02-11 13:45:23   \n",
      "97  2016-02-11 07:47:57  2016-02-11 13:47:57   \n",
      "98  2016-02-11 07:47:57  2016-02-11 13:47:57   \n",
      "99  2016-02-11 07:58:15  2016-02-11 13:58:15   \n",
      "\n",
      "                                          Description           Street Side  \\\n",
      "0   Between Sawmill Rd/Exit 20 and OH-315/Olentang...      Outerbelt E    R   \n",
      "1                  At OH-4/OH-235/Exit 41 - Accident.           I-70 E    R   \n",
      "2                    At I-71/US-50/Exit 1 - Accident.           I-75 S    R   \n",
      "3                    At I-71/US-50/Exit 1 - Accident.          US-50 E    R   \n",
      "4                     At Dart Ave/Exit 21 - Accident.           I-77 N    R   \n",
      "..                                                ...              ...  ...   \n",
      "95         At US-30/US-33/IN-930/Exit 109 - Accident.          US-30 E    R   \n",
      "96                       At US-19/Exit 67 - Accident.           I-79 S    R   \n",
      "97                        At Henderson Rd - Accident.  Olentangy Fwy S    R   \n",
      "98      At Broadway Ave/Forbes Rd/Exit 23 - Accident.          I-480 E    R   \n",
      "99                       At OH-562/Exit 7 - Accident.           I-75 N    R   \n",
      "\n",
      "          City      County State Zipcode Country  ... Roundabout Station  \\\n",
      "0       Dublin    Franklin    OH   43017      US  ...      False   False   \n",
      "1       Dayton  Montgomery    OH   45424      US  ...      False   False   \n",
      "2   Cincinnati    Hamilton    OH   45203      US  ...      False   False   \n",
      "3   Cincinnati    Hamilton    OH   45202      US  ...      False   False   \n",
      "4        Akron      Summit    OH   44311      US  ...      False   False   \n",
      "..         ...         ...   ...     ...     ...  ...        ...     ...   \n",
      "95  Fort Wayne       Allen    IN   46808      US  ...      False   False   \n",
      "96  Burnsville     Braxton    WV   26335      US  ...      False   False   \n",
      "97    Columbus    Franklin    OH   43214      US  ...      False   False   \n",
      "98     Bedford    Cuyahoga    OH   44146      US  ...      False   False   \n",
      "99  Cincinnati    Hamilton    OH   45237      US  ...      False   False   \n",
      "\n",
      "     Stop Traffic_Calming Traffic_Signal Turning_Loop Sunrise_Sunset  \\\n",
      "0   False           False          False        False          Night   \n",
      "1   False           False          False        False          Night   \n",
      "2   False           False          False        False          Night   \n",
      "3   False           False          False        False          Night   \n",
      "4   False           False          False        False          Night   \n",
      "..    ...             ...            ...          ...            ...   \n",
      "95  False           False          False        False            Day   \n",
      "96  False           False          False        False            Day   \n",
      "97  False           False          False        False            Day   \n",
      "98  False           False          False        False            Day   \n",
      "99  False           False          False        False            Day   \n",
      "\n",
      "   Civil_Twilight Nautical_Twilight Astronomical_Twilight  \n",
      "0           Night             Night                 Night  \n",
      "1           Night             Night                 Night  \n",
      "2           Night             Night                   Day  \n",
      "3           Night             Night                   Day  \n",
      "4           Night               Day                   Day  \n",
      "..            ...               ...                   ...  \n",
      "95            Day               Day                   Day  \n",
      "96            Day               Day                   Day  \n",
      "97            Day               Day                   Day  \n",
      "98            Day               Day                   Day  \n",
      "99            Day               Day                   Day  \n",
      "\n",
      "[100 rows x 32 columns]\n",
      "2    60\n",
      "3    60\n",
      "4    60\n",
      "Name: Severity, dtype: int64\n"
     ]
    }
   ],
   "source": [
    "from imblearn.over_sampling import SMOTEN\n",
    "from sklearn.preprocessing import LabelEncoder\n",
    "\n",
    "X_cat = X.drop([\"Start_Lat\", \n",
    "             \"Start_Lng\", \n",
    "             \"End_Lat\", \n",
    "             \"End_Lng\", \n",
    "             \"Distance(mi)\",\n",
    "             \"Number\",\n",
    "             \"Temperature(F)\",\n",
    "             \"Wind_Chill(F)\",\n",
    "             \"Humidity(%)\",\n",
    "             \"Pressure(in)\",\n",
    "             \"Visibility(mi)\",\n",
    "             \"Wind_Speed(mph)\",\n",
    "             \"Precipitation(in)\"\n",
    "             ], axis=1)\n",
    "\n",
    "X_cat = X_cat.fillna(0)\n",
    "X_cat = X_cat.astype(str)\n",
    "\n",
    "X_cat = X_cat.head(100)\n",
    "y_cat = y.head(100)\n",
    "\n",
    "print (X_cat)\n",
    "\n",
    "sampler = SMOTEN(random_state=0)\n",
    "\n",
    "X_res, y_res = sampler.fit_resample(X_cat, y_cat)\n",
    "print(y_res.value_counts())"
   ]
  },
  {
   "cell_type": "code",
   "execution_count": null,
   "metadata": {},
   "outputs": [],
   "source": [
    "# Now do the same but for SMOTENC\n",
    "\n",
    "# shorten data\n",
    "# remove NaN's\n",
    "# cast all categorical data as string\n",
    "# train!"
   ]
  }
 ],
 "metadata": {
  "interpreter": {
   "hash": "8e7d8eedc0b4a8a6e645c06f7b972249bcc4214ace2f00fc9f054b34cacac10c"
  },
  "kernelspec": {
   "display_name": "Python 3.8.8 64-bit ('base': conda)",
   "language": "python",
   "name": "python3"
  },
  "language_info": {
   "codemirror_mode": {
    "name": "ipython",
    "version": 3
   },
   "file_extension": ".py",
   "mimetype": "text/x-python",
   "name": "python",
   "nbconvert_exporter": "python",
   "pygments_lexer": "ipython3",
   "version": "3.8.8"
  },
  "orig_nbformat": 4
 },
 "nbformat": 4,
 "nbformat_minor": 2
}
